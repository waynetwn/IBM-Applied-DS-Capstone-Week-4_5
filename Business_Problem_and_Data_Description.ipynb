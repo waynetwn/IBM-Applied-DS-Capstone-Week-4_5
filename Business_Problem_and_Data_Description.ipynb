{
 "cells": [
  {
   "cell_type": "markdown",
   "metadata": {},
   "source": [
    "# Applied Data Science Project | IBM Data Science Professional Certificate\n",
    "## Title: Where to setup more pharmacy outlets?\n",
    "### Table of Content:\n",
    "- <a href='#Introduction'>Introduction: Problem Statement</a>\n",
    "- <a href='#Data Definition'>Data Definition</a>\n",
    "- <a href='#Methodology'>Methodology</a>\n",
    "- <a href='#Analysis'>Data Analysis</a>\n",
    "- <a href='#Results/Discussion'>Results/Discussion</a>\n",
    "- <a href='#Conclusion'>Conclusion</a>\n",
    "\n",
    "<a id='Introduction'></a>\n",
    "### Introduction: Problem Statement\n",
    "Pharmacy outlets have become growingly important as one stop centers for drugs, supplement, medical and surgical supplies and consultation. This is induced  by the population increase within the areas of inhabitant. \n",
    "\n",
    "Despite the need of setting up more outlets, study on the demographic from the point of interest(POI) and existing outlets is required to understand the strategic location in order for the outlets to be accessible. \n",
    "\n",
    "The POIs will be the key influece to the success of pharmacy outlets. The POIs in vicinity can be, but not limited to Hospital/Medical Centers, Department Store, Shopping Mall, Residential Building, Tourist Information Center, Market, Resorts etc. \n",
    "       \n",
    "The project aim to provide location recommendation based the analysis conducted on the point of interest and neighboring pharmacy outlets, believing that these places can easily attract consumers who are enroute to the specific POIs or those who need drugs/medical supply or prescription which near to the infirmary.\n",
    "\n",
    "\n",
    "<a id='Data Definition'></a>\n",
    "### Data Definition\n",
    "This project is to address the areas in Tanjung Tokong, Penang which are lacking pharmacy outlets and to propose new locations for outlets to be set up. \n",
    "\n",
    "Data collection is based on the radius of the target neighborhood grouped as Neighborhood/Venue, Latitude and Longitude. The landmarks from the geographic coordinates will be mapped using Folium library.\n",
    "\n",
    "The factors from the data to be considered for decision on the recommended locations are:\n",
    "- Number of point of interest that influence setting up of pharmacy outlets\n",
    "- Number of existing pharmacy outlets in vicinity\n",
    "- Residential or city demographics\n",
    "\n",
    "I will focus on the areas where the center of where the POIs are located.  \n",
    "The approach of retrieving the pharmacy location and related information is by means of the Foursquare API.\n",
    "\n",
    "\n",
    "### Methodology\n",
    "To obtain the geographic coordinates of the target borough, I will first search and retrieve the neighborhood coordinates from the area of Tanjung Tokong. \n",
    "I will then explore block radius to discover the landmarks based on the data with the use of Foursquare API.\n",
    "\n",
    "Next, designated POIs will be segregated out from the landmarks together with the existing pharmacy outlets for visualiation to better understand the mapping of respective locations.\n",
    "\n",
    "Finally, the POI and existing outlets coordinates will be fed into k-Mean clustering model to map out the best locations for new outlets.  \n",
    "\n"
   ]
  }
 ],
 "metadata": {
  "kernelspec": {
   "display_name": "Python 3",
   "language": "python",
   "name": "python3"
  },
  "language_info": {
   "codemirror_mode": {
    "name": "ipython",
    "version": 3
   },
   "file_extension": ".py",
   "mimetype": "text/x-python",
   "name": "python",
   "nbconvert_exporter": "python",
   "pygments_lexer": "ipython3",
   "version": "3.8.6"
  }
 },
 "nbformat": 4,
 "nbformat_minor": 4
}
